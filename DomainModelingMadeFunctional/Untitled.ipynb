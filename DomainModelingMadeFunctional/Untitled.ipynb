{
 "cells": [
  {
   "cell_type": "code",
   "execution_count": 8,
   "id": "45cf5f7b",
   "metadata": {},
   "outputs": [],
   "source": [
    "type add1 = int -> int"
   ]
  },
  {
   "cell_type": "code",
   "execution_count": 9,
   "id": "38ecb3f8",
   "metadata": {},
   "outputs": [],
   "source": [
    "let add1 n =\n",
    "  n + 1;\n"
   ]
  },
  {
   "cell_type": "code",
   "execution_count": 10,
   "id": "72c154ce",
   "metadata": {},
   "outputs": [
    {
     "data": {
      "text/html": [
       "<div class=\"dni-plaintext\">2</div>"
      ]
     },
     "execution_count": 10,
     "metadata": {},
     "output_type": "execute_result"
    }
   ],
   "source": [
    "add1 1"
   ]
  },
  {
   "cell_type": "code",
   "execution_count": null,
   "id": "0c82f7f2",
   "metadata": {},
   "outputs": [],
   "source": []
  }
 ],
 "metadata": {
  "kernelspec": {
   "display_name": ".NET (F#)",
   "language": "F#",
   "name": ".net-fsharp"
  },
  "language_info": {
   "file_extension": ".fs",
   "mimetype": "text/x-fsharp",
   "name": "F#",
   "pygments_lexer": "fsharp",
   "version": "5.0"
  }
 },
 "nbformat": 4,
 "nbformat_minor": 5
}