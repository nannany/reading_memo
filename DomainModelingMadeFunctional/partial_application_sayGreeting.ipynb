{
 "cells": [
  {
   "cell_type": "code",
   "execution_count": 4,
   "id": "1957ecb7",
   "metadata": {},
   "outputs": [],
   "source": [
    "type sayGreeting = string -> string -> unit"
   ]
  },
  {
   "cell_type": "code",
   "execution_count": 5,
   "id": "24d19223",
   "metadata": {},
   "outputs": [],
   "source": [
    "let sayGreeting greeting name = \n",
    "  printfn \"%s %s\" greeting name"
   ]
  },
  {
   "cell_type": "code",
   "execution_count": 6,
   "id": "c9fd2654",
   "metadata": {},
   "outputs": [
    {
     "name": "stdout",
     "output_type": "stream",
     "text": [
      "ora nannany\n"
     ]
    }
   ],
   "source": [
    "sayGreeting \"ora\" \"nannany\""
   ]
  },
  {
   "cell_type": "code",
   "execution_count": 8,
   "id": "b222b4c4",
   "metadata": {},
   "outputs": [],
   "source": [
    "let sayHello = sayGreeting \"hello\" "
   ]
  },
  {
   "cell_type": "code",
   "execution_count": 10,
   "id": "9d65c645",
   "metadata": {},
   "outputs": [
    {
     "name": "stdout",
     "output_type": "stream",
     "text": [
      "hello nannany\n"
     ]
    }
   ],
   "source": [
    "sayHello \"nannany\""
   ]
  },
  {
   "cell_type": "code",
   "execution_count": null,
   "id": "e5141b08",
   "metadata": {},
   "outputs": [],
   "source": []
  }
 ],
 "metadata": {
  "kernelspec": {
   "display_name": ".NET (F#)",
   "language": "F#",
   "name": ".net-fsharp"
  },
  "language_info": {
   "file_extension": ".fs",
   "mimetype": "text/x-fsharp",
   "name": "F#",
   "pygments_lexer": "fsharp",
   "version": "5.0"
  }
 },
 "nbformat": 4,
 "nbformat_minor": 5
}
