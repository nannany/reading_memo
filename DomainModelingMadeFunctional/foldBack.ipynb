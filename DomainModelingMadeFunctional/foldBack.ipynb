{
 "cells": [
  {
   "cell_type": "code",
   "execution_count": 14,
   "id": "995f1e41",
   "metadata": {},
   "outputs": [],
   "source": [
    "let targetList = [1;2;3]"
   ]
  },
  {
   "cell_type": "code",
   "execution_count": 15,
   "id": "2bb8df91",
   "metadata": {},
   "outputs": [],
   "source": [
    "let initial = 0"
   ]
  },
  {
   "cell_type": "code",
   "execution_count": 16,
   "id": "b27cc7d6",
   "metadata": {},
   "outputs": [],
   "source": [
    "let foldBackFn = fun list initial -> list + initial "
   ]
  },
  {
   "cell_type": "code",
   "execution_count": 18,
   "id": "f6bc2f33",
   "metadata": {},
   "outputs": [
    {
     "data": {
      "text/html": [
       "<div class=\"dni-plaintext\">6</div>"
      ]
     },
     "execution_count": 18,
     "metadata": {},
     "output_type": "execute_result"
    }
   ],
   "source": [
    "List.foldBack foldBackFn targetList initial"
   ]
  },
  {
   "cell_type": "code",
   "execution_count": null,
   "id": "4172cb76",
   "metadata": {},
   "outputs": [],
   "source": []
  }
 ],
 "metadata": {
  "kernelspec": {
   "display_name": ".NET (F#)",
   "language": "F#",
   "name": ".net-fsharp"
  },
  "language_info": {
   "file_extension": ".fs",
   "mimetype": "text/x-fsharp",
   "name": "F#",
   "pygments_lexer": "fsharp",
   "version": "5.0"
  }
 },
 "nbformat": 4,
 "nbformat_minor": 5
}
